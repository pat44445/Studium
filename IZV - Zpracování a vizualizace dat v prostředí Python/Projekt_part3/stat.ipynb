{
 "metadata": {
  "language_info": {
   "codemirror_mode": {
    "name": "ipython",
    "version": 3
   },
   "file_extension": ".py",
   "mimetype": "text/x-python",
   "name": "python",
   "nbconvert_exporter": "python",
   "pygments_lexer": "ipython3",
   "version": "3.8.6-final"
  },
  "orig_nbformat": 2,
  "kernelspec": {
   "name": "python3",
   "display_name": "Python 3.8.6 64-bit",
   "metadata": {
    "interpreter": {
     "hash": "e2fc008e249d393fbe847eef9ea384d4ae18d45cdca9241fed6a5632d20a1598"
    }
   }
  }
 },
 "nbformat": 4,
 "nbformat_minor": 2,
 "cells": [
  {
   "source": [
    "###\n",
    "import numpy as np \n",
    "import pandas as pd\n",
    "import scipy.stats as st"
   ],
   "cell_type": "code",
   "metadata": {},
   "execution_count": 9,
   "outputs": []
  },
  {
   "source": [
    "Vytvorime dataframe, vybereme potrebne sloupce a odstranime vsechny nehody co byly zpusobeny pod vlivem drog"
   ],
   "cell_type": "markdown",
   "metadata": {}
  },
  {
   "cell_type": "code",
   "execution_count": 10,
   "metadata": {},
   "outputs": [
    {
     "output_type": "execute_result",
     "data": {
      "text/plain": [
       "        alcohol  dead  heavy_inj\n",
       "0             2     0          0\n",
       "1             2     0          0\n",
       "2             2     0          0\n",
       "3             9     0          0\n",
       "4             0     0          0\n",
       "...         ...   ...        ...\n",
       "487156        0     0          0\n",
       "487157        2     0          0\n",
       "487158        0     0          0\n",
       "487159        2     0          0\n",
       "487160        0     0          0\n",
       "\n",
       "[485683 rows x 3 columns]"
      ],
      "text/html": "<div>\n<style scoped>\n    .dataframe tbody tr th:only-of-type {\n        vertical-align: middle;\n    }\n\n    .dataframe tbody tr th {\n        vertical-align: top;\n    }\n\n    .dataframe thead th {\n        text-align: right;\n    }\n</style>\n<table border=\"1\" class=\"dataframe\">\n  <thead>\n    <tr style=\"text-align: right;\">\n      <th></th>\n      <th>alcohol</th>\n      <th>dead</th>\n      <th>heavy_inj</th>\n    </tr>\n  </thead>\n  <tbody>\n    <tr>\n      <th>0</th>\n      <td>2</td>\n      <td>0</td>\n      <td>0</td>\n    </tr>\n    <tr>\n      <th>1</th>\n      <td>2</td>\n      <td>0</td>\n      <td>0</td>\n    </tr>\n    <tr>\n      <th>2</th>\n      <td>2</td>\n      <td>0</td>\n      <td>0</td>\n    </tr>\n    <tr>\n      <th>3</th>\n      <td>9</td>\n      <td>0</td>\n      <td>0</td>\n    </tr>\n    <tr>\n      <th>4</th>\n      <td>0</td>\n      <td>0</td>\n      <td>0</td>\n    </tr>\n    <tr>\n      <th>...</th>\n      <td>...</td>\n      <td>...</td>\n      <td>...</td>\n    </tr>\n    <tr>\n      <th>487156</th>\n      <td>0</td>\n      <td>0</td>\n      <td>0</td>\n    </tr>\n    <tr>\n      <th>487157</th>\n      <td>2</td>\n      <td>0</td>\n      <td>0</td>\n    </tr>\n    <tr>\n      <th>487158</th>\n      <td>0</td>\n      <td>0</td>\n      <td>0</td>\n    </tr>\n    <tr>\n      <th>487159</th>\n      <td>2</td>\n      <td>0</td>\n      <td>0</td>\n    </tr>\n    <tr>\n      <th>487160</th>\n      <td>0</td>\n      <td>0</td>\n      <td>0</td>\n    </tr>\n  </tbody>\n</table>\n<p>485683 rows × 3 columns</p>\n</div>"
     },
     "metadata": {},
     "execution_count": 10
    }
   ],
   "source": [
    "df = pd.read_pickle('accidents.pkl.gz', compression= 'gzip')\n",
    "\n",
    "df_cg = pd.DataFrame({\"alcohol\": df[\"p11\"], \"dead\": df[\"p13a\"], \"heavy_inj\": df[\"p13b\"]})\n",
    "df_cg = df_cg.drop(df[(df_cg.alcohol == 4) | (df_cg.alcohol == 5)].index)\n",
    "df_cg"
   ]
  },
  {
   "source": [
    "Vybereme pouze typy nehod, ktere zpusobil ridic pod silnym vlivem alkoholu a kde došlo k umrti nebo tezkemu zraneni"
   ],
   "cell_type": "markdown",
   "metadata": {}
  },
  {
   "cell_type": "code",
   "execution_count": 11,
   "metadata": {},
   "outputs": [
    {
     "output_type": "execute_result",
     "data": {
      "text/plain": [
       "        alcohol  dead  heavy_inj  drunk  heavy_nasledky\n",
       "0             2     0          0  False           False\n",
       "1             2     0          0  False           False\n",
       "2             2     0          0  False           False\n",
       "3             9     0          0   True           False\n",
       "4             0     0          0  False           False\n",
       "...         ...   ...        ...    ...             ...\n",
       "487156        0     0          0  False           False\n",
       "487157        2     0          0  False           False\n",
       "487158        0     0          0  False           False\n",
       "487159        2     0          0  False           False\n",
       "487160        0     0          0  False           False\n",
       "\n",
       "[485683 rows x 5 columns]"
      ],
      "text/html": "<div>\n<style scoped>\n    .dataframe tbody tr th:only-of-type {\n        vertical-align: middle;\n    }\n\n    .dataframe tbody tr th {\n        vertical-align: top;\n    }\n\n    .dataframe thead th {\n        text-align: right;\n    }\n</style>\n<table border=\"1\" class=\"dataframe\">\n  <thead>\n    <tr style=\"text-align: right;\">\n      <th></th>\n      <th>alcohol</th>\n      <th>dead</th>\n      <th>heavy_inj</th>\n      <th>drunk</th>\n      <th>heavy_nasledky</th>\n    </tr>\n  </thead>\n  <tbody>\n    <tr>\n      <th>0</th>\n      <td>2</td>\n      <td>0</td>\n      <td>0</td>\n      <td>False</td>\n      <td>False</td>\n    </tr>\n    <tr>\n      <th>1</th>\n      <td>2</td>\n      <td>0</td>\n      <td>0</td>\n      <td>False</td>\n      <td>False</td>\n    </tr>\n    <tr>\n      <th>2</th>\n      <td>2</td>\n      <td>0</td>\n      <td>0</td>\n      <td>False</td>\n      <td>False</td>\n    </tr>\n    <tr>\n      <th>3</th>\n      <td>9</td>\n      <td>0</td>\n      <td>0</td>\n      <td>True</td>\n      <td>False</td>\n    </tr>\n    <tr>\n      <th>4</th>\n      <td>0</td>\n      <td>0</td>\n      <td>0</td>\n      <td>False</td>\n      <td>False</td>\n    </tr>\n    <tr>\n      <th>...</th>\n      <td>...</td>\n      <td>...</td>\n      <td>...</td>\n      <td>...</td>\n      <td>...</td>\n    </tr>\n    <tr>\n      <th>487156</th>\n      <td>0</td>\n      <td>0</td>\n      <td>0</td>\n      <td>False</td>\n      <td>False</td>\n    </tr>\n    <tr>\n      <th>487157</th>\n      <td>2</td>\n      <td>0</td>\n      <td>0</td>\n      <td>False</td>\n      <td>False</td>\n    </tr>\n    <tr>\n      <th>487158</th>\n      <td>0</td>\n      <td>0</td>\n      <td>0</td>\n      <td>False</td>\n      <td>False</td>\n    </tr>\n    <tr>\n      <th>487159</th>\n      <td>2</td>\n      <td>0</td>\n      <td>0</td>\n      <td>False</td>\n      <td>False</td>\n    </tr>\n    <tr>\n      <th>487160</th>\n      <td>0</td>\n      <td>0</td>\n      <td>0</td>\n      <td>False</td>\n      <td>False</td>\n    </tr>\n  </tbody>\n</table>\n<p>485683 rows × 5 columns</p>\n</div>"
     },
     "metadata": {},
     "execution_count": 11
    }
   ],
   "source": [
    "df_cg[\"drunk\"] = (df_cg[\"alcohol\"] >= 7)\n",
    "df_cg[\"heavy_nasledky\"] = ((df_cg[\"dead\"] + df_cg[\"heavy_inj\"]) > 0)\n",
    "df_cg"
   ]
  },
  {
   "source": [
    "Vytvorime kontingencni tabulku a vypocitame p-value"
   ],
   "cell_type": "markdown",
   "metadata": {}
  },
  {
   "cell_type": "code",
   "execution_count": 12,
   "metadata": {},
   "outputs": [
    {
     "output_type": "stream",
     "name": "stdout",
     "text": [
      "p-value = 2.09715057003383e-123\n"
     ]
    }
   ],
   "source": [
    "ct = pd.crosstab(df_cg[\"drunk\"], df_cg[\"heavy_nasledky\"])\n",
    "values = st.chi2_contingency(ct)\n",
    "\n",
    "print(\"p-value =\" ,values[1])"
   ]
  },
  {
   "source": [
    "Vidime, ze p-hodnota je mnohem mensi nez hladina vyznamnosti 0,05 a tedy muzeme s 95% jistotou alternativni hypotezu zamitnout.  \n",
    "Prijimame tedy hypotezu \"Pokud viník nehody byl pod silným vlivem alkoholu, došlo častěji k těžkým zdravotním následkům.\""
   ],
   "cell_type": "markdown",
   "metadata": {}
  }
 ]
}